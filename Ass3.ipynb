{
 "cells": [
  {
   "cell_type": "code",
   "execution_count": 3,
   "id": "a09a5154",
   "metadata": {},
   "outputs": [
    {
     "name": "stdout",
     "output_type": "stream",
     "text": [
      "Emeka <class 'str'>\n",
      "32 <class 'int'>\n",
      "your height is 20.1cm <class 'float'>\n"
     ]
    }
   ],
   "source": [
    "# Get a student's detail which include name, age, and height\n",
    "name = input('what is your name: ')\n",
    "age = int(input('How old are you: '))\n",
    "height = float(input('What is your height: '))\n",
    "is_student = True\n",
    "\n",
    "print(name, type(name))\n",
    "print(age, type(age))\n",
    "print(is_student, type(is_student))\n",
    "print(f'your height is {height}cm', type(height))"
   ]
  },
  {
   "cell_type": "code",
   "execution_count": 7,
   "id": "123efda3",
   "metadata": {},
   "outputs": [
    {
     "name": "stdout",
     "output_type": "stream",
     "text": [
      "Welcome Emeka, enjoy your moment.\n"
     ]
    }
   ],
   "source": [
    "# greeting message\n",
    "def greet_user(name):\n",
    "    print(f'Welcome {name}, enjoy your moment.')\n",
    "\n",
    "greet_user('Emeka')"
   ]
  },
  {
   "cell_type": "code",
   "execution_count": null,
   "id": "4272b387",
   "metadata": {},
   "outputs": [
    {
     "name": "stdout",
     "output_type": "stream",
     "text": [
      "Login Successful\n"
     ]
    }
   ],
   "source": [
    "#Mini login system\n",
    "# asking for the users input\n",
    "username = input('Enter your username: ')\n",
    "password = input('Enter your password: ')\n",
    "\n",
    "# checking to see if the details match with our condition\n",
    "if username == 'admin' and password == '1234':\n",
    "    print('Login Successful')\n",
    "else:\n",
    "    print('Access denied')\n",
    "\n"
   ]
  },
  {
   "cell_type": "code",
   "execution_count": 2,
   "id": "f2e46bf4",
   "metadata": {},
   "outputs": [
    {
     "name": "stdout",
     "output_type": "stream",
     "text": [
      "The result is:  11.2\n",
      "Thanks for using python calculator. Goodbye!\n"
     ]
    }
   ],
   "source": [
    "# Basic calculator\n",
    "def add(a, b):\n",
    "    return a + b\n",
    "def substract(a, b):\n",
    "    return a - b\n",
    "def multiply(a, b):\n",
    "    return a * b\n",
    "def divide(a, b):\n",
    "    if b!=0:\n",
    "        return round((a / b),2)\n",
    "    else:\n",
    "        print('Error! division by zero')\n",
    "\n",
    "# loop for user to perform calculation more than one time\n",
    "while True:\n",
    "    num1 = int(input('Enter the num1: '))\n",
    "    num2 = int(input('Enter the num2: '))\n",
    "\n",
    "    # operation setting\n",
    "    operation = input(\"pick an operator ('+', '-', '*', '/'): \")\n",
    "\n",
    "    # perform operation based on operation\n",
    "    if operation == '+':\n",
    "        print('The result is: ', add(num1, num2))\n",
    "    elif operation == '-':\n",
    "        print('The result is: ', substract(num1, num2))\n",
    "    elif operation == '*':\n",
    "        print('The result is :', multiply(num1, num2))\n",
    "    elif operation == '/':\n",
    "        print('The result is: ', divide(num1, num2))\n",
    "    else:\n",
    "        print('Invalid operation, please try again!')\n",
    "    \n",
    "    # asking the user if the want to perform another calculation?\n",
    "    repeat = input('Do you want perform another calculation? (yes/no)').lower()\n",
    "    if repeat != 'yes' :\n",
    "        print('Thanks for using python calculator. Goodbye!')\n",
    "        break\n",
    "    "
   ]
  },
  {
   "cell_type": "code",
   "execution_count": null,
   "id": "3340de93",
   "metadata": {},
   "outputs": [
    {
     "name": "stdout",
     "output_type": "stream",
     "text": [
      "You are a senior\n"
     ]
    }
   ],
   "source": [
    "# Age Categorizer\n",
    "# asking for user age\n",
    "age = int(input('Enter your age'))\n",
    "if age <= 0:\n",
    "    print('Invalid age')\n",
    "    # checking if the user is a child from our condition\n",
    "elif age <= 12:\n",
    "    print('You are a child')\n",
    "    # checking if the user is a teen from our condition\n",
    "elif age <= 19:\n",
    "    print('You are a teen')\n",
    "    # checking if the user is an adult from our condition\n",
    "elif age <= 64:\n",
    "    print('Your are an adult')\n",
    "    # checking if the user is a senior from our condition\n",
    "else:\n",
    "    print('You are a senior')"
   ]
  },
  {
   "cell_type": "code",
   "execution_count": null,
   "id": "ec2d2e8e",
   "metadata": {},
   "outputs": [],
   "source": []
  }
 ],
 "metadata": {
  "kernelspec": {
   "display_name": "pandas_venv",
   "language": "python",
   "name": "python3"
  },
  "language_info": {
   "codemirror_mode": {
    "name": "ipython",
    "version": 3
   },
   "file_extension": ".py",
   "mimetype": "text/x-python",
   "name": "python",
   "nbconvert_exporter": "python",
   "pygments_lexer": "ipython3",
   "version": "3.13.2"
  }
 },
 "nbformat": 4,
 "nbformat_minor": 5
}
